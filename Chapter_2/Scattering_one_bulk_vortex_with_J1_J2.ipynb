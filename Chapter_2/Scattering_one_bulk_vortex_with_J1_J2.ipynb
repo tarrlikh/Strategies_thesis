{
 "cells": [
  {
   "cell_type": "code",
   "execution_count": 1,
   "metadata": {},
   "outputs": [],
   "source": [
    "import kwant\n",
    "\n",
    "# For plotting\n",
    "#from matplotlib import pyplot\n",
    "import matplotlib.pyplot as plt\n",
    "import numpy as np\n",
    "import sympy\n",
    "import scipy.sparse.linalg as la\n",
    "\n",
    "import tinyarray \n",
    "\n",
    "from kwant.continuum import sympify\n",
    "# define Pauli matrix \n",
    "sigma_0 = tinyarray.array([[1, 0], [0, 1]])\n",
    "sigma_x = tinyarray.array([[0, 1], [1, 0]])\n",
    "sigma_y = tinyarray.array([[0, -1j], [1j, 0]])  \n",
    "sigma_z = tinyarray.array([[1, 0], [0, -1]])\n",
    "\n",
    "a=1"
   ]
  },
  {
   "cell_type": "markdown",
   "metadata": {},
   "source": [
    "# Bulid the system with only one bulk vortex between J1 and J2"
   ]
  },
  {
   "cell_type": "code",
   "execution_count": 2,
   "metadata": {},
   "outputs": [],
   "source": [
    "def shape(site, Lxmin, Lxmax, Lymin, Lymax):\n",
    "    (x, y) = site.pos\n",
    "    return (Lxmin <= x < Lxmax and Lymin <= y < Lymax)\n",
    "\n",
    "\n",
    "\n",
    "x2 = 0.5\n",
    "y2 = 0.5  # (x1, y1) for z1 and (x2, y2) for z2\n",
    "\n",
    "def f_r(x, y): # f(r) for vortex\n",
    "    z = x + 1j*y\n",
    "    z2 = x2 + 1j*y2\n",
    "    f_r = (z - z2) / np.abs(z - z2)\n",
    "    return f_r\n",
    "\n",
    "def f_rRe(x,y): \n",
    "    re = np.real(f_r(x,y))\n",
    "    return re\n",
    "\n",
    "def f_rIm(x,y):\n",
    "    im = np.imag(f_r(x,y))\n",
    "    return im"
   ]
  },
  {
   "cell_type": "code",
   "execution_count": 3,
   "metadata": {},
   "outputs": [],
   "source": [
    "# hamiltonian_1 for delta=0 (I0,J1,J2)\n",
    "hamiltonian_1 = \"\"\"\n",
    "            (m+B*(k_x**2+k_y**2))*kron(sigma_z,sigma_z)\n",
    "            -mu*kron(sigma_0,sigma_z)\n",
    "            +A*k_x*kron(sigma_x,sigma_0)\n",
    "            +A*k_y*kron(sigma_y,sigma_z)\n",
    "            -delta_1*kron(sigma_y,sigma_y)\n",
    "    \"\"\"\n",
    "\n",
    "\n",
    "template_1 = kwant.continuum.discretize(hamiltonian_1, grid_spacing=a)\n",
    "\n",
    "\n",
    "syst = kwant.Builder()\n",
    "syst.fill(template_1, lambda site : shape(site, -25, 25, -100, -77), (0, -80))  #(0, -80) chosen inside the block\n",
    "syst.fill(template_1, lambda site : shape(site, -25, 25, 77, 100), (0, 80))\n",
    "syst.fill(template_1, lambda site : shape(site, -25, 25, -27, -25), (0, -26))\n",
    "syst.fill(template_1, lambda site : shape(site, -25, 25, 25, 27), (0, 26))\n",
    "syst.fill(template_1, lambda site : shape(site, -75, -25, -100, 100), (-50, 0))\n",
    "\n",
    "\n",
    "\n",
    "# hamiltonian_2 for I1 and I3 with finite delta\n",
    "hamiltonian_2 = \"\"\"\n",
    "            (m+B*(k_x**2+k_y**2))*kron(sigma_z,sigma_z)\n",
    "            -mu*kron(sigma_0,sigma_z)\n",
    "            +A*k_x*kron(sigma_x,sigma_0)\n",
    "            +A*k_y*kron(sigma_y,sigma_z)\n",
    "            -delta_2*kron(sigma_y,sigma_y)*f_rRe(x,y)\n",
    "            -delta_2*kron(sigma_y,sigma_x)*f_rIm(x,y)\n",
    "    \"\"\"\n",
    "\n",
    "\n",
    "template_2 = kwant.continuum.discretize(hamiltonian_2, grid_spacing=a)\n",
    "\n",
    "\n",
    "\n",
    "syst.fill(template_2, lambda site : shape(site, -25, 25, -77, -27), (0, -50))  #(0, 0) chosen inside the block\n",
    "syst.fill(template_2, lambda site : shape(site, -25, 25, 27, 77), (0, 50))\n",
    "\n",
    "\n",
    "# hamiltonian_3 for I2 with finite delta and phase phi\n",
    "hamiltonian_3 = \"\"\"\n",
    "            (m+B*(k_x**2+k_y**2))*kron(sigma_z,sigma_z)\n",
    "            -mu*kron(sigma_0,sigma_z)\n",
    "            +A*k_x*kron(sigma_x,sigma_0)\n",
    "            +A*k_y*kron(sigma_y,sigma_z)\n",
    "            -delta_3*kron(sigma_y,sigma_y)*(cos(phi)*f_rRe(x,y)-sin(phi)*f_rIm(x,y))\n",
    "            -delta_3*kron(sigma_y,sigma_x)*(sin(phi)*f_rRe(x,y)+cos(phi)*f_rIm(x,y))\n",
    "    \"\"\"\n",
    "\n",
    "template_3 = kwant.continuum.discretize(hamiltonian_3, grid_spacing=a)\n",
    "\n",
    "syst.fill(template_3, lambda site : shape(site, -25, 25, -25, 25), (0, 0))  #(0, 0) chosen inside the block\n",
    "\n",
    "\n",
    "def lead_shape(site): \n",
    "    (x, y) = site.pos\n",
    "    return (-75 <= x < 25)\n",
    "\n",
    "lead_temp = kwant.TranslationalSymmetry([0, -a])\n",
    "lead = kwant.Builder(lead_temp, conservation_law = np.kron(sigma_0, sigma_z))\n",
    "lead.fill(template_1, lead_shape, (0, 0))\n",
    "\n",
    "syst.attach_lead(lead)\n",
    "syst.attach_lead(lead.reversed())\n",
    "\n",
    "syst = syst.finalized()\n",
    "#kwant.plot(syst, fig_size=(10,10))"
   ]
  },
  {
   "cell_type": "markdown",
   "metadata": {},
   "source": [
    "# Scattering matrix"
   ]
  },
  {
   "cell_type": "code",
   "execution_count": 4,
   "metadata": {},
   "outputs": [],
   "source": [
    "def scattering(phi):\n",
    "    params = dict(A = 1, B = 0.5, m=-0.5, mu=0., delta_1=0., delta_2=0.75, delta_3=0.75, phi=phi, \n",
    "              cos=np.cos, sin=np.sin, f_rRe=f_rRe, f_rIm=f_rIm)  #sigma is no need to input\n",
    "    smatrix = kwant.solvers.mumps.smatrix(syst, energy=0.001, params=params, out_leads=[1], in_leads=[0]) #out_leads=[1], in_leads=[0] if necessary\n",
    "    s_temp = smatrix.data\n",
    "    angle = -np.angle(s_temp[0][0], deg=False)\n",
    "    return angle"
   ]
  },
  {
   "cell_type": "code",
   "execution_count": null,
   "metadata": {},
   "outputs": [],
   "source": [
    "# numerical results\n",
    "angle = []\n",
    "phi_tot = [] \n",
    "nphi = 201\n",
    "for i in range(0, nphi):\n",
    "    dphi = np.pi*2.0 / nphi\n",
    "    phi = i * dphi\n",
    "    phi_tot.append(phi)\n",
    "    phase_diff = scattering(phi) - scattering(0.0)\n",
    "    if True:\n",
    "        while phase_diff < 0:\n",
    "            phase_diff += 2 * np.pi\n",
    "        while phase_diff > 2 * np.pi:\n",
    "            phase_diff -= 2 *np.pi\n",
    "    angle.append(phase_diff)"
   ]
  },
  {
   "cell_type": "code",
   "execution_count": null,
   "metadata": {},
   "outputs": [],
   "source": [
    "#plot scattering phase    \n",
    "plt.figure()\n",
    "plt.plot(phi_tot, angle, '.')\n",
    "plt.plot(phi_tot, angle_ana)\n",
    "plt.xlabel(\"phi\")\n",
    "plt.ylabel(\"angle\")\n",
    "plt.xlim(0.0, np.pi*2.0)\n",
    "plt.ylim(0, np.pi*2.0)\n",
    "plt.show()"
   ]
  },
  {
   "cell_type": "code",
   "execution_count": null,
   "metadata": {},
   "outputs": [],
   "source": []
  },
  {
   "cell_type": "code",
   "execution_count": null,
   "metadata": {},
   "outputs": [],
   "source": []
  }
 ],
 "metadata": {
  "kernelspec": {
   "display_name": "Python 3",
   "language": "python",
   "name": "python3"
  },
  "language_info": {
   "codemirror_mode": {
    "name": "ipython",
    "version": 3
   },
   "file_extension": ".py",
   "mimetype": "text/x-python",
   "name": "python",
   "nbconvert_exporter": "python",
   "pygments_lexer": "ipython3",
   "version": "3.6.7"
  }
 },
 "nbformat": 4,
 "nbformat_minor": 2
}
