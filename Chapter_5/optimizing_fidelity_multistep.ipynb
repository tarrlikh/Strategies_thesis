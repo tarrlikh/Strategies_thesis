{
 "cells": [
  {
   "cell_type": "code",
   "execution_count": 1,
   "metadata": {},
   "outputs": [],
   "source": [
    "import numpy as np\n",
    "import elementaries as el\n",
    "import ansatzes as ans\n",
    "import optimization as opt\n",
    "import hamiltonians as ham\n",
    "from scipy.optimize import minimize\n",
    "import random"
   ]
  },
  {
   "cell_type": "code",
   "execution_count": 2,
   "metadata": {},
   "outputs": [],
   "source": [
    "z_generators=ham.single_qubit_paulis(3)\n",
    "z_magnitude=1/el.number_of_qubits\n",
    "xx_generators=ham.two_qubit_strings(1,1)\n",
    "xx_disorder_strength=1/(el.number_of_qubits**2)\n",
    "\n",
    "hamiltonian_z=ham.constant_subhamiltonian(z_magnitude,z_generators)\n",
    "hamiltonian_xx=ham.random_subhamiltonian(xx_disorder_strength,xx_generators)\n",
    "\n",
    "hamiltonian=hamiltonian_z+hamiltonian_xx\n",
    "GS_energy=min(np.linalg.eig(hamiltonian)[0])\n"
   ]
  },
  {
   "cell_type": "code",
   "execution_count": 3,
   "metadata": {},
   "outputs": [
    {
     "name": "stdout",
     "output_type": "stream",
     "text": [
      "[ 1.07400804+0.j -1.06953539+0.j  0.67938965+0.j  0.55680808+0.j\n",
      "  0.48504289+0.j  0.42507206+0.j -0.6320877 +0.j -0.60473637+0.j\n",
      " -0.42085873+0.j -0.48871223+0.j  0.1747528 +0.j -0.1598803 +0.j\n",
      " -0.07077356+0.j  0.05304468+0.j  0.00311555+0.j -0.00464945+0.j]\n"
     ]
    }
   ],
   "source": [
    "print(np.linalg.eig(hamiltonian)[0])\n",
    "GS_state=np.linalg.eig(hamiltonian)[1][1]\n",
    "GS_state=GS_state/np.linalg.norm(GS_state)"
   ]
  },
  {
   "cell_type": "code",
   "execution_count": 4,
   "metadata": {
    "scrolled": true
   },
   "outputs": [],
   "source": [
    "result_single=opt.optimize_fidelity([ans.kQSA(3)],GS_state,None)\n",
    "result_multi=opt.optimize_fidelity([ans.k0QSA(1),ans.k0QSA(2),ans.k0QSA(3)],GS_state,None)"
   ]
  },
  {
   "cell_type": "code",
   "execution_count": 5,
   "metadata": {
    "scrolled": true
   },
   "outputs": [
    {
     "name": "stdout",
     "output_type": "stream",
     "text": [
      "460 -0.9949305463597181 609 -0.9960559553865778\n"
     ]
    }
   ],
   "source": [
    "print(result_single[0].nfev, result_single[0].fun, result_multi[0].nfev+result_multi[1].nfev+result_multi[2].nfev, result_multi[2].fun)"
   ]
  },
  {
   "cell_type": "code",
   "execution_count": 6,
   "metadata": {},
   "outputs": [
    {
     "name": "stdout",
     "output_type": "stream",
     "text": [
      "1.772660081920529 1.950501786189764\n"
     ]
    }
   ],
   "source": [
    "print(np.linalg.norm(result_single[0].x), np.linalg.norm(result_multi[2].x))"
   ]
  },
  {
   "cell_type": "code",
   "execution_count": 11,
   "metadata": {},
   "outputs": [
    {
     "name": "stdout",
     "output_type": "stream",
     "text": [
      "-0.9988751687387805 23056\n"
     ]
    }
   ],
   "source": [
    "result22=opt.optimize_fidelity([ans.kQSA(2)+ans.kQSA(2)],GS_state,None)\n",
    "\n",
    "print(result22[0].fun, result22[0].nfev)"
   ]
  }
 ],
 "metadata": {
  "kernelspec": {
   "display_name": "Python [conda env:test]",
   "language": "python",
   "name": "conda-env-test-py"
  },
  "language_info": {
   "codemirror_mode": {
    "name": "ipython",
    "version": 3
   },
   "file_extension": ".py",
   "mimetype": "text/x-python",
   "name": "python",
   "nbconvert_exporter": "python",
   "pygments_lexer": "ipython3",
   "version": "3.6.4"
  }
 },
 "nbformat": 4,
 "nbformat_minor": 2
}
