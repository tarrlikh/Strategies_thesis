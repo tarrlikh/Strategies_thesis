{
 "cells": [
  {
   "cell_type": "code",
   "execution_count": 5,
   "metadata": {},
   "outputs": [],
   "source": [
    "import numpy as np\n",
    "import elementaries as el\n",
    "import ansatzes as ans\n",
    "import optimization as opt\n",
    "import hamiltonians as ham\n",
    "from scipy.optimize import minimize\n",
    "import random"
   ]
  },
  {
   "cell_type": "code",
   "execution_count": 6,
   "metadata": {},
   "outputs": [],
   "source": [
    "z_generators=ham.single_qubit_paulis(3)\n",
    "z_magnitude=1/el.number_of_qubits\n",
    "xx_generators=ham.two_qubit_strings(1,1)\n",
    "xx_disorder_strength=1/(el.number_of_qubits**2)\n",
    "\n",
    "hamiltonian_z=ham.constant_subhamiltonian(z_magnitude,z_generators)\n",
    "hamiltonian_xx=ham.random_subhamiltonian(xx_disorder_strength,xx_generators)\n",
    "\n",
    "hamiltonian=hamiltonian_z+hamiltonian_xx\n",
    "GS_energy=min(np.linalg.eig(hamiltonian)[0])\n"
   ]
  },
  {
   "cell_type": "code",
   "execution_count": 7,
   "metadata": {},
   "outputs": [
    {
     "name": "stdout",
     "output_type": "stream",
     "text": [
      "[ 1.00485877+0.j -1.0052479 +0.j  0.69399467+0.j  0.63796482+0.j\n",
      "  0.65677593+0.j  0.67074073+0.j  0.6814304 +0.j  0.67887968+0.j\n",
      " -0.70362873+0.j -0.68363198+0.j -0.66881202+0.j -0.64662976+0.j\n",
      " -0.66049497+0.j -0.65737143+0.j  0.28470679+0.j  0.3705081 +0.j\n",
      "  0.30258135+0.j  0.36199841+0.j  0.36097731+0.j  0.35465189+0.j\n",
      "  0.3526088 +0.j  0.34643776+0.j  0.34180535+0.j  0.33701836+0.j\n",
      "  0.31256139+0.j  0.32919345+0.j  0.32519826+0.j  0.32165974+0.j\n",
      "  0.32348098+0.j -0.38622269+0.j -0.36871305+0.j -0.35825204+0.j\n",
      " -0.29898457+0.j -0.34876697+0.j -0.34661937+0.j -0.34381221+0.j\n",
      " -0.3399668 +0.j -0.33391446+0.j -0.32717724+0.j -0.32348403+0.j\n",
      " -0.31683641+0.j -0.30915466+0.j -0.31049995+0.j -0.31259439+0.j\n",
      " -0.05629858+0.j -0.04007714+0.j  0.03926752+0.j -0.03033663+0.j\n",
      "  0.03255425+0.j  0.02942117+0.j  0.02479981+0.j  0.02298874+0.j\n",
      "  0.02001948+0.j  0.01542086+0.j -0.02024347+0.j -0.0188676 +0.j\n",
      "  0.0105465 +0.j  0.0075875 +0.j  0.00329551+0.j -0.01320742+0.j\n",
      " -0.01201641+0.j -0.00722398+0.j -0.00315123+0.j -0.0036962 +0.j]\n"
     ]
    }
   ],
   "source": [
    "print(np.linalg.eig(hamiltonian)[0])\n",
    "GS_state=np.linalg.eig(hamiltonian)[1][1]\n",
    "GS_state=GS_state/np.linalg.norm(GS_state)"
   ]
  },
  {
   "cell_type": "code",
   "execution_count": 8,
   "metadata": {},
   "outputs": [
    {
     "name": "stdout",
     "output_type": "stream",
     "text": [
      "-0.9932194435618475 920\n"
     ]
    }
   ],
   "source": [
    "result2=opt.optimize_fidelity([ans.kQSA(2)],GS_state,None)[0]\n",
    "\n",
    "print(result2.fun, result2.nfev)"
   ]
  },
  {
   "cell_type": "code",
   "execution_count": 9,
   "metadata": {},
   "outputs": [
    {
     "name": "stdout",
     "output_type": "stream",
     "text": [
      "-0.9987680623402757 17820\n"
     ]
    }
   ],
   "source": [
    "result22=opt.optimize_fidelity([ans.kQSA(2)+ans.kQSA(2)],GS_state,None)[0]\n",
    "\n",
    "print(result22.fun, result22.nfev)"
   ]
  },
  {
   "cell_type": "code",
   "execution_count": null,
   "metadata": {},
   "outputs": [],
   "source": [
    "result222=opt.optimize_fidelity([ans.kQSA(2)+ans.kQSA(2)+ans.kQSA(2)],GS_state,None)[0]\n",
    "\n",
    "print(result222.fun, result222.nfev)"
   ]
  },
  {
   "cell_type": "code",
   "execution_count": 10,
   "metadata": {},
   "outputs": [
    {
     "name": "stdout",
     "output_type": "stream",
     "text": [
      "-0.9973124806570759 2881\n"
     ]
    }
   ],
   "source": [
    "result3=opt.optimize_fidelity([ans.kQSA(3)], GS_state, None)[0]\n",
    "\n",
    "print(result3.fun, result3.nfev)"
   ]
  },
  {
   "cell_type": "code",
   "execution_count": null,
   "metadata": {},
   "outputs": [],
   "source": [
    "result4=opt.optimize_fidelity([ans.kQSA(4)],GS_state,None)[0]\n",
    "\n",
    "print(result4.fun, result4.nfev)"
   ]
  },
  {
   "cell_type": "code",
   "execution_count": null,
   "metadata": {},
   "outputs": [],
   "source": [
    "np.linalg.det(result2.hess_inv)"
   ]
  },
  {
   "cell_type": "code",
   "execution_count": null,
   "metadata": {},
   "outputs": [],
   "source": [
    "np.linalg.norm(result2.x)"
   ]
  },
  {
   "cell_type": "code",
   "execution_count": 11,
   "metadata": {},
   "outputs": [
    {
     "data": {
      "text/plain": [
       "129628940302.55093"
      ]
     },
     "execution_count": 11,
     "metadata": {},
     "output_type": "execute_result"
    }
   ],
   "source": [
    "np.linalg.det(result22.hess_inv)"
   ]
  },
  {
   "cell_type": "code",
   "execution_count": 12,
   "metadata": {
    "scrolled": true
   },
   "outputs": [
    {
     "data": {
      "text/plain": [
       "2.257899445825596"
      ]
     },
     "execution_count": 12,
     "metadata": {},
     "output_type": "execute_result"
    }
   ],
   "source": [
    "np.linalg.norm(result22.x)"
   ]
  },
  {
   "cell_type": "code",
   "execution_count": null,
   "metadata": {},
   "outputs": [],
   "source": [
    "np.linalg.det(result222.hess_inv)"
   ]
  },
  {
   "cell_type": "code",
   "execution_count": null,
   "metadata": {},
   "outputs": [],
   "source": [
    "np.linalg.norm(result222.x)"
   ]
  },
  {
   "cell_type": "code",
   "execution_count": 13,
   "metadata": {},
   "outputs": [
    {
     "data": {
      "text/plain": [
       "5.096438843303259e-06"
      ]
     },
     "execution_count": 13,
     "metadata": {},
     "output_type": "execute_result"
    }
   ],
   "source": [
    "np.linalg.det(result3.hess_inv)"
   ]
  },
  {
   "cell_type": "code",
   "execution_count": 14,
   "metadata": {
    "scrolled": true
   },
   "outputs": [
    {
     "data": {
      "text/plain": [
       "3.6440395163336508"
      ]
     },
     "execution_count": 14,
     "metadata": {},
     "output_type": "execute_result"
    }
   ],
   "source": [
    "np.linalg.norm(result3.x)"
   ]
  },
  {
   "cell_type": "code",
   "execution_count": null,
   "metadata": {},
   "outputs": [],
   "source": [
    "np.linalg.det(result4.hess_inv)"
   ]
  },
  {
   "cell_type": "code",
   "execution_count": null,
   "metadata": {},
   "outputs": [],
   "source": [
    "np.linalg.norm(result4.x)"
   ]
  },
  {
   "cell_type": "code",
   "execution_count": null,
   "metadata": {},
   "outputs": [],
   "source": [
    "matrix2=np.log(result2.hess_inv*result2.hess_inv)"
   ]
  },
  {
   "cell_type": "code",
   "execution_count": null,
   "metadata": {},
   "outputs": [],
   "source": [
    "import numpy as np\n",
    "import matplotlib.pyplot as plt\n",
    "\n",
    "plt.imshow(matrix2);\n",
    "plt.colorbar()\n",
    "plt.show()"
   ]
  },
  {
   "cell_type": "code",
   "execution_count": 15,
   "metadata": {},
   "outputs": [],
   "source": [
    "matrix22=np.log(result22.hess_inv*result22.hess_inv)"
   ]
  },
  {
   "cell_type": "code",
   "execution_count": 17,
   "metadata": {
    "scrolled": true
   },
   "outputs": [
    {
     "data": {
      "image/png": "[encoded data removed]",
      "text/plain": [
       "<Figure size 432x288 with 2 Axes>"
      ]
     },
     "metadata": {},
     "output_type": "display_data"
    }
   ],
   "source": [
    "import numpy as np\n",
    "import matplotlib.pyplot as plt\n",
    "\n",
    "plt.imshow(matrix22);\n",
    "plt.colorbar()\n",
    "plt.show()"
   ]
  },
  {
   "cell_type": "code",
   "execution_count": null,
   "metadata": {},
   "outputs": [],
   "source": [
    "matrix222=np.log(result222.hess_inv*result222.hess_inv)"
   ]
  },
  {
   "cell_type": "code",
   "execution_count": null,
   "metadata": {},
   "outputs": [],
   "source": [
    "import numpy as np\n",
    "import matplotlib.pyplot as plt\n",
    "\n",
    "plt.imshow(matrix222);\n",
    "plt.colorbar()\n",
    "plt.show()"
   ]
  },
  {
   "cell_type": "code",
   "execution_count": 18,
   "metadata": {},
   "outputs": [],
   "source": [
    "matrix3=np.log(result3.hess_inv*result3.hess_inv)"
   ]
  },
  {
   "cell_type": "code",
   "execution_count": 19,
   "metadata": {},
   "outputs": [
    {
     "data": {
      "image/png": "[encoded data removed]",
      "text/plain": [
       "<Figure size 432x288 with 2 Axes>"
      ]
     },
     "metadata": {},
     "output_type": "display_data"
    }
   ],
   "source": [
    "import numpy as np\n",
    "import matplotlib.pyplot as plt\n",
    "\n",
    "plt.imshow(matrix3);\n",
    "plt.colorbar()\n",
    "plt.show()"
   ]
  },
  {
   "cell_type": "code",
   "execution_count": null,
   "metadata": {},
   "outputs": [],
   "source": [
    "matrix4=np.log(result4.hess_inv*result4.hess_inv)"
   ]
  },
  {
   "cell_type": "code",
   "execution_count": null,
   "metadata": {},
   "outputs": [],
   "source": [
    "import numpy as np\n",
    "import matplotlib.pyplot as plt\n",
    "\n",
    "plt.imshow(matrix4);\n",
    "plt.colorbar()\n",
    "plt.show()"
   ]
  },
  {
   "cell_type": "code",
   "execution_count": null,
   "metadata": {},
   "outputs": [],
   "source": [
    "import mpmath as np"
   ]
  },
  {
   "cell_type": "code",
   "execution_count": null,
   "metadata": {},
   "outputs": [],
   "source": [
    "np.array([31])"
   ]
  },
  {
   "cell_type": "code",
   "execution_count": 21,
   "metadata": {},
   "outputs": [
    {
     "data": {
      "text/plain": [
       "array([1.69672466e+03, 6.68329404e+01, 3.32398554e+01, 3.10056528e+01,\n",
       "       2.19273709e+01, 9.53444137e+00, 4.78595210e+00, 3.36176419e+00,\n",
       "       3.19123349e+00, 2.12103921e+00, 2.06195745e+00, 1.95015660e+00,\n",
       "       1.17448803e+00, 1.02768920e+00, 8.20595365e-01, 8.11178307e-01,\n",
       "       7.78712710e-01, 2.76108332e-01, 7.06149109e-01, 6.86788037e-01,\n",
       "       6.86117923e-01, 3.15204096e-01, 6.54324072e-01, 6.12475538e-01,\n",
       "       6.06539485e-01, 5.98772574e-01, 5.82106699e-01, 5.77030306e-01,\n",
       "       3.62911339e-01, 3.72887939e-01, 3.69815186e-01, 3.78394212e-01,\n",
       "       3.97627516e-01, 5.32181928e-01, 4.31184438e-01, 4.46025171e-01,\n",
       "       4.59002257e-01, 4.61842118e-01, 4.94361021e-01, 4.79324219e-01,\n",
       "       4.87525325e-01])"
      ]
     },
     "execution_count": 21,
     "metadata": {},
     "output_type": "execute_result"
    }
   ],
   "source": [
    "np.linalg.eig(result3.hess_inv*result3.hess_inv)[0]"
   ]
  },
  {
   "cell_type": "code",
   "execution_count": 22,
   "metadata": {},
   "outputs": [
    {
     "data": {
      "text/plain": [
       "array([2.12751472e+06, 1.03851679e+05, 3.83677616e+04, 1.90149045e+04,\n",
       "       9.93225118e+03, 7.35494650e+03, 6.01329540e+03, 4.67524954e+03,\n",
       "       2.85221668e+03, 2.52791134e+03, 1.63250025e+03, 1.23057740e+03,\n",
       "       9.19208498e+02, 7.45495107e+02, 5.11505752e+02, 3.96919270e+02,\n",
       "       3.43414291e+02, 3.12595746e+02, 1.98120041e+02, 1.89516414e+02,\n",
       "       1.57703435e+02, 1.36735470e+02, 1.18319819e+02, 1.06434506e+02,\n",
       "       7.03743242e+01, 6.41574060e+01, 6.13457329e+01, 5.16134395e+01,\n",
       "       4.93581360e+01, 3.71878997e+01, 2.55792178e+01, 2.03048648e+01,\n",
       "       1.18899213e+01, 1.03792244e+01, 9.72384623e+00, 3.41675751e+00,\n",
       "       3.06551888e+00, 1.17657634e+00, 7.38486934e-01, 5.16092410e-01,\n",
       "       6.88914268e-01, 6.18439441e-01])"
      ]
     },
     "execution_count": 22,
     "metadata": {},
     "output_type": "execute_result"
    }
   ],
   "source": [
    "np.linalg.eig(result22.hess_inv*result22.hess_inv)[0]"
   ]
  },
  {
   "cell_type": "code",
   "execution_count": null,
   "metadata": {},
   "outputs": [],
   "source": []
  }
 ],
 "metadata": {
  "kernelspec": {
   "display_name": "test",
   "language": "python",
   "name": "test"
  },
  "language_info": {
   "codemirror_mode": {
    "name": "ipython",
    "version": 3
   },
   "file_extension": ".py",
   "mimetype": "text/x-python",
   "name": "python",
   "nbconvert_exporter": "python",
   "pygments_lexer": "ipython3",
   "version": "3.6.4"
  }
 },
 "nbformat": 4,
 "nbformat_minor": 2
}
