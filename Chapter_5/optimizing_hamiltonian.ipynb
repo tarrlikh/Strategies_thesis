{
 "cells": [
  {
   "cell_type": "code",
   "execution_count": 1,
   "metadata": {},
   "outputs": [],
   "source": [
    "import numpy as np\n",
    "import elementaries as el\n",
    "import ansatzes as ans\n",
    "import optimization as opt\n",
    "import hamiltonians as ham\n",
    "from scipy.optimize import minimize\n",
    "import random"
   ]
  },
  {
   "cell_type": "code",
   "execution_count": 127,
   "metadata": {},
   "outputs": [],
   "source": [
    "phi=0\n",
    "\n",
    "z_generators=ham.single_qubit_paulis(3)\n",
    "z_magnitude=-np.cos(phi)/el.number_of_qubits\n",
    "x_generators=ham.single_qubit_paulis(1)\n",
    "x_magnitude=np.sin(phi)/el.number_of_qubits\n",
    "xx_generators=ham.two_qubit_strings(1,1)\n",
    "xx_disorder_strength=1/(el.number_of_qubits**2)\n",
    "\n",
    "hamiltonian_z=ham.constant_subhamiltonian(z_magnitude,z_generators)\n",
    "hamiltonian_x=ham.constant_subhamiltonian(x_magnitude,x_generators)\n",
    "hamiltonian_xx=ham.random_subhamiltonian(xx_disorder_strength,xx_generators)\n",
    "\n",
    "hamiltonian=hamiltonian_z+hamiltonian_xx\n",
    "GS_energy=min(np.linalg.eig(hamiltonian)[0])\n"
   ]
  },
  {
   "cell_type": "code",
   "execution_count": 140,
   "metadata": {
    "collapsed": true
   },
   "outputs": [
    {
     "name": "stdout",
     "output_type": "stream",
     "text": [
      "[-1.02817024e+00+0.j  1.03221965e+00+0.j -8.41065199e-01+0.j\n",
      "  8.39037802e-01+0.j -8.07755331e-01+0.j  8.06603990e-01+0.j\n",
      " -7.80438117e-01+0.j -7.73379010e-01+0.j -7.67586204e-01+0.j\n",
      " -7.51904075e-01+0.j -7.38292786e-01+0.j -7.13284971e-01+0.j\n",
      "  7.91017311e-01+0.j  7.75359909e-01+0.j  7.67035702e-01+0.j\n",
      "  7.59764629e-01+0.j  7.39940064e-01+0.j  7.12786073e-01+0.j\n",
      " -6.20961522e-01+0.j  6.16202735e-01+0.j -5.99748777e-01+0.j\n",
      "  6.01892954e-01+0.j -5.84604652e-01+0.j -5.74515367e-01+0.j\n",
      "  5.79448546e-01+0.j  5.75448758e-01+0.j -5.67493172e-01+0.j\n",
      " -5.61640647e-01+0.j -5.50038335e-01+0.j -5.47576241e-01+0.j\n",
      " -5.39777585e-01+0.j -5.31769009e-01+0.j -5.28321600e-01+0.j\n",
      " -5.16382629e-01+0.j -5.22721674e-01+0.j  5.63272227e-01+0.j\n",
      "  5.51344825e-01+0.j  5.49095904e-01+0.j  5.45218445e-01+0.j\n",
      "  5.42446869e-01+0.j  5.34806414e-01+0.j  5.33647478e-01+0.j\n",
      "  5.30531091e-01+0.j  5.24005467e-01+0.j  5.17755203e-01+0.j\n",
      "  5.11509635e-01+0.j  5.07867287e-01+0.j  5.03060607e-01+0.j\n",
      "  4.99056401e-01+0.j  4.96288470e-01+0.j  4.93606188e-01+0.j\n",
      "  4.84259016e-01+0.j  4.82426853e-01+0.j -5.14303605e-01+0.j\n",
      " -5.10778182e-01+0.j -5.03244314e-01+0.j -4.93123882e-01+0.j\n",
      " -4.94615548e-01+0.j -4.98076577e-01+0.j -4.83645404e-01+0.j\n",
      " -4.85902108e-01+0.j  4.16251585e-01+0.j  4.35888869e-01+0.j\n",
      "  4.53434705e-01+0.j  4.58517989e-01+0.j  4.67677314e-01+0.j\n",
      "  4.63491995e-01+0.j -4.79932505e-01+0.j -4.78744669e-01+0.j\n",
      " -4.65521285e-01+0.j -4.20116414e-01+0.j -4.33091228e-01+0.j\n",
      " -4.57453875e-01+0.j -4.54735189e-01+0.j -3.81802466e-01+0.j\n",
      "  3.77103359e-01+0.j  3.60045976e-01+0.j  3.55635209e-01+0.j\n",
      " -3.63443353e-01+0.j  3.45440525e-01+0.j -3.56344668e-01+0.j\n",
      "  3.32030978e-01+0.j  3.31156451e-01+0.j  3.22041017e-01+0.j\n",
      "  3.19197925e-01+0.j  3.15512926e-01+0.j -3.42361596e-01+0.j\n",
      " -3.43144623e-01+0.j -3.28540162e-01+0.j -3.27559866e-01+0.j\n",
      " -3.20025457e-01+0.j -3.17554822e-01+0.j -3.13176219e-01+0.j\n",
      " -3.10775066e-01+0.j -3.05562261e-01+0.j -3.03893075e-01+0.j\n",
      " -2.97104703e-01+0.j -2.91808586e-01+0.j -2.90003268e-01+0.j\n",
      " -2.85821506e-01+0.j  3.06925700e-01+0.j  3.04124222e-01+0.j\n",
      "  3.01378049e-01+0.j  2.96707888e-01+0.j  2.95715680e-01+0.j\n",
      "  2.91618759e-01+0.j  2.86848616e-01+0.j  2.85227719e-01+0.j\n",
      "  2.84068075e-01+0.j  2.81480509e-01+0.j  2.79755404e-01+0.j\n",
      " -2.81656618e-01+0.j -2.79654782e-01+0.j -2.77284262e-01+0.j\n",
      " -2.74010308e-01+0.j  2.78157776e-01+0.j  2.75094707e-01+0.j\n",
      "  2.72604892e-01+0.j  2.71285540e-01+0.j  2.69219365e-01+0.j\n",
      "  2.64618659e-01+0.j -2.70068805e-01+0.j -2.68785107e-01+0.j\n",
      " -2.67613830e-01+0.j -2.64372656e-01+0.j  1.57881576e-01+0.j\n",
      "  1.60591364e-01+0.j  1.73187410e-01+0.j  1.76817759e-01+0.j\n",
      "  2.61504507e-01+0.j  2.59240099e-01+0.j  2.57044718e-01+0.j\n",
      " -1.40770705e-01+0.j -1.57611796e-01+0.j -1.65154840e-01+0.j\n",
      " -1.70850076e-01+0.j -2.62823391e-01+0.j -2.59610110e-01+0.j\n",
      " -2.57211381e-01+0.j -2.54872755e-01+0.j -1.85971891e-01+0.j\n",
      " -1.83239637e-01+0.j  1.36130557e-01+0.j  1.87727373e-01+0.j\n",
      "  1.90453153e-01+0.j  2.53309968e-01+0.j  2.50803606e-01+0.j\n",
      "  2.49209628e-01+0.j  1.95607022e-01+0.j  1.99702543e-01+0.j\n",
      "  2.02900509e-01+0.j -1.94395018e-01+0.j  2.46199119e-01+0.j\n",
      " -1.25722967e-01+0.j -1.96129019e-01+0.j -2.51345682e-01+0.j\n",
      " -2.50003171e-01+0.j  2.43335988e-01+0.j  2.20674180e-01+0.j\n",
      "  2.08125895e-01+0.j  2.10440930e-01+0.j -1.19570960e-01+0.j\n",
      " -2.03127606e-01+0.j -2.05347833e-01+0.j  1.23311065e-01+0.j\n",
      " -2.08649788e-01+0.j -2.11873771e-01+0.j  2.22550736e-01+0.j\n",
      "  2.25492333e-01+0.j  2.45414116e-01+0.j  2.40475155e-01+0.j\n",
      "  2.28962767e-01+0.j  2.09225623e-01+0.j -2.17961604e-01+0.j\n",
      " -2.20195332e-01+0.j  1.09752657e-01+0.j  1.03801057e-01+0.j\n",
      "  2.36957040e-01+0.j  2.35350805e-01+0.j  2.32921328e-01+0.j\n",
      " -2.43759185e-01+0.j -2.42214445e-01+0.j -2.41108610e-01+0.j\n",
      " -2.24245970e-01+0.j -2.25632546e-01+0.j -2.35470035e-01+0.j\n",
      " -2.28342157e-01+0.j -9.96456026e-02+0.j  9.50194872e-02+0.j\n",
      "  8.46731804e-02+0.j -9.69769196e-02+0.j -8.55085309e-02+0.j\n",
      " -8.46415032e-02+0.j -2.39308674e-01+0.j -2.30045212e-01+0.j\n",
      " -2.36812110e-01+0.j -2.32620966e-01+0.j  7.64992360e-02+0.j\n",
      "  7.77132476e-02+0.j -7.30498812e-02+0.j -7.16616131e-02+0.j\n",
      " -7.05498679e-02+0.j  6.95805028e-02+0.j -6.58091621e-02+0.j\n",
      " -6.33071940e-02+0.j  6.57800236e-02+0.j -5.75224490e-02+0.j\n",
      " -4.03026761e-02+0.j -4.85020372e-02+0.j -5.47346750e-02+0.j\n",
      " -5.20965561e-02+0.j -5.25789005e-02+0.j  5.86013158e-02+0.j\n",
      "  5.80399801e-02+0.j  5.38636640e-02+0.j  5.07121139e-02+0.j\n",
      "  4.89089355e-02+0.j  4.50036882e-02+0.j  4.59437498e-02+0.j\n",
      " -3.64116306e-02+0.j -3.52552328e-02+0.j  3.51524246e-02+0.j\n",
      "  3.82569142e-02+0.j  3.78346321e-02+0.j  3.65207887e-02+0.j\n",
      "  2.99946290e-02+0.j  2.80354633e-02+0.j -2.86321399e-02+0.j\n",
      " -3.46604912e-02+0.j -2.42577212e-02+0.j -2.21989788e-02+0.j\n",
      " -2.57502393e-02+0.j -1.48822289e-02+0.j -1.68471129e-02+0.j\n",
      " -7.44358873e-03+0.j  4.89354936e-03+0.j  3.46983735e-03+0.j\n",
      "  2.46817360e-02+0.j  6.03998659e-04+0.j  9.84320269e-03+0.j\n",
      "  9.22638128e-03+0.j  1.56496219e-02+0.j  1.96161894e-02+0.j\n",
      "  1.73877620e-02+0.j  2.25281582e-02+0.j  2.29132108e-02+0.j\n",
      "  1.85724241e-02+0.j -1.72998906e-02+0.j  1.33595419e-02+0.j\n",
      " -3.83060700e-03+0.j -5.69915248e-03+0.j -1.03555935e-02+0.j\n",
      " -9.26073820e-03+0.j -1.25848918e-02+0.j -3.81396591e-04+0.j\n",
      " -1.14786295e-02+0.j]\n"
     ]
    }
   ],
   "source": [
    "eig=np.linalg.eig(hamiltonian)\n",
    "\n",
    "print(eig[0])\n",
    "GS_state=np.transpose(eig[1])[0] #or [1]? check!\n",
    "GS_state=GS_state/np.linalg.norm(GS_state)"
   ]
  },
  {
   "cell_type": "code",
   "execution_count": 117,
   "metadata": {},
   "outputs": [],
   "source": [
    "state=ans.ansatz_state(el.list_of_strings(ans.kQSA(1)),result[0].x)\n",
    "state2=ans.ansatz_state(el.list_of_strings(ans.k0QSA(1)+ans.k0QSA(2)),result2_multi[1].x)\n",
    "# state22=ans.ansatz_state(el.list_of_strings(ans.k0QSA(1)+ans.k0QSA(2)+ans.kQSA(2)),result22_multi[2].x)\n",
    "# state3=ans.ansatz_state(el.list_of_strings(ans.k0QSA(1)+ans.k0QSA(2)+ans.k0QSA(3)),result3_multi[2].x)"
   ]
  },
  {
   "cell_type": "code",
   "execution_count": 131,
   "metadata": {
    "scrolled": true
   },
   "outputs": [
    {
     "name": "stdout",
     "output_type": "stream",
     "text": [
      "(1.9588299904844033-0j) 261\n"
     ]
    }
   ],
   "source": [
    "result1=opt.optimize_expectation([ans.kQSA(1)],hamiltonian,'Powell',tol=0.0001)\n",
    "\n",
    "print(-np.log10(1-result1[0].fun/GS_energy), result1[0].nfev)"
   ]
  },
  {
   "cell_type": "code",
   "execution_count": 132,
   "metadata": {},
   "outputs": [
    {
     "name": "stdout",
     "output_type": "stream",
     "text": [
      "(4.927478362500395-0j) 1434\n"
     ]
    }
   ],
   "source": [
    "result2_multi=opt.optimize_expectation([ans.k0QSA(1),ans.k0QSA(2)],hamiltonian, 'Powell',tol=0.0001)\n",
    "\n",
    "print(-np.log10(1-result2_multi[1].fun/GS_energy), result2_multi[0].nfev+result2_multi[1].nfev)"
   ]
  },
  {
   "cell_type": "code",
   "execution_count": 56,
   "metadata": {
    "collapsed": true
   },
   "outputs": [
    {
     "name": "stdout",
     "output_type": "stream",
     "text": [
      "(3.870309650701882-0j) 2910\n"
     ]
    }
   ],
   "source": [
    "result3_single=opt.optimize_expectation([ans.kQSA(3)],hamiltonian,'Powell',tol=0.001)\n",
    "\n",
    "print(-np.log10(1-result3_single[0].fun/GS_energy), result3_single[0].nfev)"
   ]
  },
  {
   "cell_type": "code",
   "execution_count": 80,
   "metadata": {},
   "outputs": [
    {
     "name": "stdout",
     "output_type": "stream",
     "text": [
      "(11.531049003916701-0j) 2497\n"
     ]
    }
   ],
   "source": [
    "result3_multi=opt.optimize_expectation([ans.k0QSA(1),ans.k0QSA(2),ans.k0QSA(3)],hamiltonian, 'Powell',tol=0.0001)\n",
    "\n",
    "print(-np.log10(1-result3_multi[2].fun/GS_energy), result3_multi[0].nfev+result3_multi[1].nfev+result3_multi[2].nfev)"
   ]
  },
  {
   "cell_type": "code",
   "execution_count": 57,
   "metadata": {
    "collapsed": true
   },
   "outputs": [
    {
     "name": "stdout",
     "output_type": "stream",
     "text": [
      "(4.132125884033373-0j) 2137\n"
     ]
    }
   ],
   "source": [
    "result22_single=opt.optimize_expectation([ans.kQSA(2)+ans.kQSA(2)],hamiltonian,'Powell',tol=0.001)\n",
    "\n",
    "print(-np.log10(1-result22_single[0].fun/GS_energy), result22_single[0].nfev)"
   ]
  },
  {
   "cell_type": "code",
   "execution_count": 81,
   "metadata": {},
   "outputs": [
    {
     "name": "stdout",
     "output_type": "stream",
     "text": [
      "(10.720302855446143-0j) 2461\n"
     ]
    }
   ],
   "source": [
    "result22_multi=opt.optimize_expectation([ans.k0QSA(1),ans.k0QSA(2),ans.kQSA(2)],hamiltonian, 'Powell',tol=0.0001)\n",
    "\n",
    "print(-np.log10(1-result22_multi[2].fun/GS_energy), result22_multi[0].nfev+result22_multi[1].nfev+result22_multi[2].nfev)"
   ]
  },
  {
   "cell_type": "code",
   "execution_count": 11,
   "metadata": {},
   "outputs": [],
   "source": [
    "state1=ans.ansatz_state(el.list_of_strings(ans.k0QSA(1)),result1[0].x)\n",
    "state2_multi=ans.ansatz_state(el.list_of_strings(ans.k0QSA(1)+ans.k0QSA(2)),result2_multi[1].x)\n",
    "state3_single=ans.ansatz_state(el.list_of_strings(ans.kQSA(3)),result3_single[0].x)\n",
    "state22_single=ans.ansatz_state(el.list_of_strings(2*ans.kQSA(2)),result22_single[0].x)\n",
    "state3_multi=ans.ansatz_state(el.list_of_strings(ans.k0QSA(1)+ans.k0QSA(2)+ans.k0QSA(3)),result3_multi[2].x)\n",
    "state22_multi=ans.ansatz_state(el.list_of_strings(ans.k0QSA(1)+ans.k0QSA(2)+ans.kQSA(2)),result22_multi[2].x)"
   ]
  },
  {
   "cell_type": "code",
   "execution_count": 58,
   "metadata": {},
   "outputs": [],
   "source": [
    "print((el.entropy(el.partial_trace(state3_multi))-el.entropy(el.partial_trace(state22_multi)) )/el.entropy(el.partial_trace(state3)))"
   ]
  },
  {
   "cell_type": "code",
   "execution_count": 135,
   "metadata": {},
   "outputs": [
    {
     "data": {
      "text/plain": [
       "array([0.06859283, 0.10246453, 0.12974787, 0.12143243, 0.08733605,\n",
       "       0.10466781, 0.01937495, 0.02422247])"
      ]
     },
     "execution_count": 135,
     "metadata": {},
     "output_type": "execute_result"
    }
   ],
   "source": [
    "np.abs(result[0].x)"
   ]
  },
  {
   "cell_type": "code",
   "execution_count": 136,
   "metadata": {},
   "outputs": [
    {
     "data": {
      "text/plain": [
       "0.12974787211012237"
      ]
     },
     "execution_count": 136,
     "metadata": {},
     "output_type": "execute_result"
    }
   ],
   "source": [
    "np.max(np.abs(result[0].x))"
   ]
  },
  {
   "cell_type": "code",
   "execution_count": 137,
   "metadata": {
    "scrolled": true
   },
   "outputs": [
    {
     "data": {
      "text/plain": [
       "0.2575448612941052"
      ]
     },
     "execution_count": 137,
     "metadata": {},
     "output_type": "execute_result"
    }
   ],
   "source": [
    "np.linalg.norm(result[0].x)"
   ]
  },
  {
   "cell_type": "code",
   "execution_count": null,
   "metadata": {},
   "outputs": [],
   "source": [
    "import numpy as np\n",
    "import matplotlib.pyplot as plt\n",
    "\n",
    "plt.plot(np.arange(len(GS_state)),np.real(GS_state-el.default_state))\n",
    "plt.plot(np.arange(len(state3)),np.real(GS_state-state22))\n",
    "# plt.plot(np.arange(len(state3)),np.real(state22))\n",
    "# plt.plot(np.arange(len(state3)),np.real(state3-state22))\n",
    "plt.show()"
   ]
  }
 ],
 "metadata": {
  "kernelspec": {
   "display_name": "test",
   "language": "python",
   "name": "test"
  },
  "language_info": {
   "codemirror_mode": {
    "name": "ipython",
    "version": 3
   },
   "file_extension": ".py",
   "mimetype": "text/x-python",
   "name": "python",
   "nbconvert_exporter": "python",
   "pygments_lexer": "ipython3",
   "version": "3.6.4"
  }
 },
 "nbformat": 4,
 "nbformat_minor": 2
}
