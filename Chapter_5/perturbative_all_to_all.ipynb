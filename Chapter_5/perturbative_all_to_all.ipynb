{
 "cells": [
  {
   "cell_type": "code",
   "execution_count": 1,
   "metadata": {},
   "outputs": [],
   "source": [
    "import numpy as np\n",
    "import elementaries as el\n",
    "import ansatzes as ans\n",
    "import optimization as opt\n",
    "import hamiltonians as ham\n",
    "from scipy.optimize import minimize\n",
    "import random"
   ]
  },
  {
   "cell_type": "code",
   "execution_count": 3,
   "metadata": {},
   "outputs": [],
   "source": [
    "phi=0\n",
    "\n",
    "J=1\n",
    "\n",
    "z_generators=ham.single_qubit_paulis(3)\n",
    "z_magnitude=-np.cos(phi)/el.number_of_qubits\n",
    "x_generators=ham.single_qubit_paulis(1)\n",
    "x_magnitude=np.sin(phi)/el.number_of_qubits\n",
    "xx_generators=ham.two_qubit_strings(1,1)\n",
    "xx_disorder_strength=J/(el.number_of_qubits**2)\n",
    "\n",
    "hamiltonian_z=ham.constant_subhamiltonian(z_magnitude,z_generators)\n",
    "hamiltonian_x=ham.constant_subhamiltonian(x_magnitude,x_generators)\n",
    "hamiltonian_xx=ham.constant_subhamiltonian(xx_disorder_strength,xx_generators)\n",
    "\n",
    "hamiltonian=hamiltonian_z+hamiltonian_xx\n",
    "GS_energy=min(np.linalg.eig(hamiltonian)[0])\n"
   ]
  },
  {
   "cell_type": "code",
   "execution_count": 4,
   "metadata": {},
   "outputs": [],
   "source": [
    "eig=np.linalg.eig(hamiltonian)"
   ]
  },
  {
   "cell_type": "code",
   "execution_count": 5,
   "metadata": {},
   "outputs": [
    {
     "name": "stdout",
     "output_type": "stream",
     "text": [
      "[ 1.34686785+0.j -1.14002164+0.j  0.94962884+0.j  0.8839835 +0.j\n",
      " -0.8267461 +0.j -0.82130991+0.j -0.80510087+0.j -0.77878049+0.j\n",
      " -0.74467669+0.j  0.84811837+0.j]\n",
      "(0.8711743232490059+0j)\n"
     ]
    }
   ],
   "source": [
    "print(eig[0][0:10])\n",
    "GS_state=np.transpose(eig[1])[1] #or [1]? check!\n",
    "GS_state=GS_state/np.linalg.norm(GS_state)\n",
    "print(GS_state[0])"
   ]
  },
  {
   "cell_type": "code",
   "execution_count": 6,
   "metadata": {},
   "outputs": [],
   "source": [
    "lis=[]\n",
    "\n",
    "for i in range(len(GS_state)):\n",
    "    lis.append(list(map(int,list(format(i, 'b').zfill(el.number_of_qubits)))))  \n",
    "\n",
    "#sorting everything according to full-QSA prescription: finding the right reordering\n",
    "levels=[]\n",
    "\n",
    "for element in lis:\n",
    "    levels+=[sum(element)]\n",
    "\n",
    "ind=np.array(levels).argsort()\n",
    "\n",
    "GS_state_sorted=list(GS_state[ind])\n",
    "levels=np.array(levels)[ind]\n",
    "\n",
    "GS_state_stored=[[] for i in range(el.number_of_qubits+1)]\n",
    "\n",
    "for i in range(2**el.number_of_qubits):\n",
    "    GS_state_stored[levels[i]]+=[GS_state_sorted[i]]\n",
    "\n"
   ]
  },
  {
   "cell_type": "code",
   "execution_count": 7,
   "metadata": {},
   "outputs": [
    {
     "data": {
      "image/png": "[encoded data removed]",
      "text/plain": [
       "<Figure size 432x288 with 1 Axes>"
      ]
     },
     "metadata": {},
     "output_type": "display_data"
    }
   ],
   "source": [
    "import numpy as np\n",
    "import matplotlib.pyplot as plt\n",
    "\n",
    "fig, ax = plt.subplots()\n",
    "\n",
    "# state_distribution=list(map(np.linalg.norm, GS_state_stored))\n",
    "\n",
    "state_distribution=list(map(np.linalg.norm, GS_state_stored))/np.sqrt(list(map(len, GS_state_stored)))\n",
    "# print(state_distribution)\n",
    "ax.semilogy(list(range(el.number_of_qubits+1)),state_distribution)\n",
    "# # plt.plot(np.arange(len(GS_state)),np.abs(GS_state))\n",
    "plt.show()"
   ]
  },
  {
   "cell_type": "code",
   "execution_count": 95,
   "metadata": {},
   "outputs": [
    {
     "data": {
      "text/plain": [
       "-0.19874646733307189"
      ]
     },
     "execution_count": 95,
     "metadata": {},
     "output_type": "execute_result"
    }
   ],
   "source": [
    "from scipy.optimize import curve_fit\n",
    "\n",
    "ylogdata=list(map(np.log,state_distribution[1:el.number_of_qubits//2+1]))\n",
    "\n",
    "xdata=list(range(len(ylogdata)))\n",
    "\n",
    "def func(x,a,b):\n",
    "    return(a*x+b)\n",
    "popt,pcov=curve_fit(func,xdata,ylogdata)\n",
    "\n",
    "popt[0]"
   ]
  },
  {
   "cell_type": "code",
   "execution_count": 135,
   "metadata": {},
   "outputs": [
    {
     "name": "stdout",
     "output_type": "stream",
     "text": [
      "[[1.0, 0.06099565420261809], [2.0, 0.11460718469314471], [3.0, 0.17969805701011676], [4.0, 0.24559140839146246], [5.0, 0.30837991758219624], [6.0, 0.36656028366183774], [7.0, 0.41931451940098685], [0.01, 0.0011389849746705964], [8, 0.46637250425944216], [10, 0.5444797325628298], [15, 0.6720026905541772]]\n"
     ]
    }
   ],
   "source": [
    "gammas+=[[J,np.exp(2*popt[0])]]\n",
    "print(gammas)"
   ]
  },
  {
   "cell_type": "code",
   "execution_count": 10,
   "metadata": {},
   "outputs": [],
   "source": [
    "# gammas=[]"
   ]
  },
  {
   "cell_type": "code",
   "execution_count": 19,
   "metadata": {},
   "outputs": [
    {
     "data": {
      "image/png": "[encoded data removed]",
      "text/plain": [
       "<Figure size 432x288 with 1 Axes>"
      ]
     },
     "metadata": {},
     "output_type": "display_data"
    }
   ],
   "source": [
    "data6=np.transpose(np.array(gammas6))\n",
    "data10=np.transpose(np.array(gammas10))\n",
    "plt.scatter(data6[0],data6[1], label='$\\gamma(J)$ at $N=6$')\n",
    "plt.scatter(data10[0][0:21],data10[1][0:21], label='$\\gamma(J)$ at $N=10$')\n",
    "plt.scatter(data10[0][0:21],list(map(lambda x: x/10,data10[0][0:21])), label='$\\gamma_{est}(J)=J/hN$ at $N=10$')\n",
    "plt.legend(bbox_to_anchor=(1.05, 1), loc=2, borderaxespad=0.,fontsize='large')\n",
    "plt.show()"
   ]
  },
  {
   "cell_type": "code",
   "execution_count": 8,
   "metadata": {},
   "outputs": [],
   "source": [
    "gammas10=[[0.01, 0.0008670001937475444],\n",
    " [0.02, 0.0017041102029408614],\n",
    " [0.03, 0.0025113821471504003],\n",
    " [0.04, 0.003288924815289092],\n",
    " [0.05, 0.004036951062075093],\n",
    " [0.06, 0.0047558428389823946],\n",
    " [0.07, 0.005446237515348237],\n",
    " [0.08, 0.0061091370295299225],\n",
    " [0.09, 0.006746037454673157],\n",
    " [0.1, 0.007359068265849345],\n",
    " [0.2, 0.013040352101409209],\n",
    " [0.3, 0.018822370012390024],\n",
    " [0.4, 0.0236483131823062],\n",
    " [0.5, 0.027739430372579185],\n",
    " [1.0, 0.048964348257725485],\n",
    " [2.0, 0.10128524850445253],\n",
    " [3.0, 0.1587503354340971],\n",
    " [4.0, 0.2157042429856748],\n",
    " [6.0, 0.3177228770569615],\n",
    " [8.0, 0.4023588336333046],\n",
    " [10.0, 0.4723957934245768],\n",
    " [20.0, 0.6815315701238688],\n",
    " [40.0, 0.8278866153408737],\n",
    " [100.0, 0.9283000067642189]]"
   ]
  },
  {
   "cell_type": "code",
   "execution_count": 9,
   "metadata": {},
   "outputs": [],
   "source": [
    "gammas6=[[1.0, 0.06099565420261809], [2.0, 0.11460718469314471], [3.0, 0.17969805701011676], [4.0, 0.24559140839146246], [5.0, 0.30837991758219624], [6.0, 0.36656028366183774], [7.0, 0.41931451940098685], [0.01, 0.0011389849746705964], [8, 0.46637250425944216], [10, 0.5444797325628298], [15, 0.6720026905541772]]"
   ]
  },
  {
   "cell_type": "code",
   "execution_count": null,
   "metadata": {},
   "outputs": [],
   "source": []
  }
 ],
 "metadata": {
  "kernelspec": {
   "display_name": "test",
   "language": "python",
   "name": "test"
  },
  "language_info": {
   "codemirror_mode": {
    "name": "ipython",
    "version": 3
   },
   "file_extension": ".py",
   "mimetype": "text/x-python",
   "name": "python",
   "nbconvert_exporter": "python",
   "pygments_lexer": "ipython3",
   "version": "3.6.4"
  }
 },
 "nbformat": 4,
 "nbformat_minor": 2
}
