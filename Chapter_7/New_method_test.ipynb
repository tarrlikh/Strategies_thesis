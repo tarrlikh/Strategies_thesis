{
 "cells": [
  {
   "cell_type": "code",
   "execution_count": 1,
   "metadata": {},
   "outputs": [],
   "source": [
    "import numpy as np\n",
    "import settings\n",
    "import os\n",
    "import json"
   ]
  },
  {
   "cell_type": "code",
   "execution_count": null,
   "metadata": {},
   "outputs": [],
   "source": [
    "type_of_system='AKLT'\n",
    "\n",
    "starting_state_name='all_down'\n",
    "\n",
    "type_of_protocol='continuous_optimization'\n",
    "\n",
    "target_fidelity=0.9999\n",
    "\n",
    "system_size=3\n",
    "\n",
    "number_of_experiments=100\n",
    "\n",
    "number_of_workers=25\n",
    "\n",
    "    \n",
    "json.dump(\n",
    "join('#!/bin/env bash\n",
    "#SBATCH --array=0-50\n",
    "#SBATCH --error=\"./out/AKLT_script/7_local_feedback_%x-%j-%a.err\"\n",
    "#SBATCH --output=\"./out/AKLT_script/7_local_feedback_%x-%j-%a.out\"\n",
    "#SBATCH --partition=ibIntel\n",
    "#SBATCH --mem=10G\n",
    "#SBATCH --time=02-00:00:00\n",
    "#SBATCH --mail-type=END,FAIL\n",
    "\n",
    ". ~/.bashrc\n",
    "srun python AKLT_script.py 7 2 ${SLURM_ARRAY_TASK_ID})"
   ]
  },
  {
   "cell_type": "code",
   "execution_count": 66,
   "metadata": {
    "scrolled": true
   },
   "outputs": [
    {
     "name": "stdout",
     "output_type": "stream",
     "text": [
      "system_size=3\n",
      "AKLT_from_all_down_with_continuous_optimization_to_fidelity=0.9999/N=3 - 100, 5\n",
      "\n",
      " run=0\n",
      "\n",
      " run=2\n",
      "\n",
      " run=4\n",
      "\n",
      " run=6\n",
      "\n",
      " run=8\n",
      "\n",
      " run=10\n",
      "\n",
      " run=12\n",
      "\n",
      " run=14\n",
      "\n",
      " run=16\n",
      "\n",
      " run=18\n",
      "\n",
      " run=20\n",
      "\n",
      " run=22\n",
      "\n",
      " run=24\n",
      "\n",
      " run=26\n",
      "\n",
      " run=28\n",
      "\n",
      " run=30\n",
      "\n",
      " run=32\n",
      "\n",
      " run=34\n",
      "\n",
      " run=36\n",
      "\n",
      " run=38\n",
      "\n",
      " run=40\n",
      "\n",
      " run=42\n",
      "\n",
      " run=44\n",
      "\n",
      " run=46\n",
      "\n",
      " run=48\n",
      "\n",
      " run=50\n",
      "\n",
      " run=52\n",
      "\n",
      " run=54\n",
      "\n",
      " run=56\n",
      "\n",
      " run=58\n",
      "\n",
      " run=60\n",
      "\n",
      " run=62\n",
      "\n",
      " run=64\n",
      "\n",
      " run=66\n",
      "\n",
      " run=68\n",
      "\n",
      " run=70\n",
      "\n",
      " run=72\n",
      "\n",
      " run=74\n",
      "\n",
      " run=76\n",
      "\n",
      " run=78\n",
      "\n",
      " run=80\n",
      "\n",
      " run=82\n",
      "\n",
      " run=84\n",
      "\n",
      " run=86\n",
      "\n",
      " run=88\n",
      "\n",
      " run=90\n",
      "\n",
      " run=92\n",
      "\n",
      " run=94\n",
      "\n",
      " run=96\n",
      "\n",
      " run=98\n",
      "attempting update with [21, 20, 29, 32, 26, 26, 26, 37, 19, 9, 16, 33, 20, 30, 21, 39, 11, 15, 8, 25, 64, 17, 23, 10, 35, 17, 15, 33, 8, 24, 39, 19, 19, 24, 38, 35, 8, 12, 25, 11, 15, 38, 45, 14, 25, 39, 16, 27, 14, 14, 24, 12, 34, 37, 56, 15, 42, 19, 24, 24, 20, 28, 15, 16, 24, 16, 16, 18, 16, 19, 18, 30, 21, 20, 29, 39, 13, 17, 35, 39, 24, 16, 11, 18, 30, 39, 25, 20, 20, 14, 10, 16, 47, 19, 53, 19, 68, 31, 39, 17]...\n",
      "the path does exist already!\n",
      "updated successfully\n",
      "[21, 20, 29, 32, 26, 26, 26, 37, 19, 9, 16, 33, 20, 30, 21, 39, 11, 15, 8, 25, 64, 17, 23, 10, 35, 17, 15, 33, 8, 24, 39, 19, 19, 24, 38, 35, 8, 12, 25, 11, 15, 38, 45, 14, 25, 39, 16, 27, 14, 14, 24, 12, 34, 37, 56, 15, 42, 19, 24, 24, 20, 28, 15, 16, 24, 16, 16, 18, 16, 19, 18, 30, 21, 20, 29, 39, 13, 17, 35, 39, 24, 16, 11, 18, 30, 39, 25, 20, 20, 14, 10, 16, 47, 19, 53, 19, 68, 31, 39, 17]\n"
     ]
    }
   ],
   "source": [
    "slur_id=5\n",
    "\n",
    "!python steering_main.py AKLT all_down continuous_optimization 0.9999 3 100 $slur_id"
   ]
  },
  {
   "cell_type": "code",
   "execution_count": 4,
   "metadata": {},
   "outputs": [],
   "source": [
    "settings.type_of_system='AKLT'"
   ]
  },
  {
   "cell_type": "code",
   "execution_count": 5,
   "metadata": {},
   "outputs": [],
   "source": [
    "settings.properties_by_system()"
   ]
  },
  {
   "cell_type": "code",
   "execution_count": 8,
   "metadata": {},
   "outputs": [
    {
     "data": {
      "text/plain": [
       "True"
      ]
     },
     "execution_count": 8,
     "metadata": {},
     "output_type": "execute_result"
    }
   ],
   "source": [
    "not not 'False'"
   ]
  },
  {
   "cell_type": "code",
   "execution_count": 60,
   "metadata": {},
   "outputs": [],
   "source": [
    "a_dict={'avc': []}"
   ]
  },
  {
   "cell_type": "code",
   "execution_count": 61,
   "metadata": {},
   "outputs": [
    {
     "data": {
      "text/plain": [
       "{'avc': []}"
      ]
     },
     "execution_count": 61,
     "metadata": {},
     "output_type": "execute_result"
    }
   ],
   "source": [
    "a_dict"
   ]
  },
  {
   "cell_type": "code",
   "execution_count": 20,
   "metadata": {},
   "outputs": [],
   "source": [
    "a=3"
   ]
  },
  {
   "cell_type": "code",
   "execution_count": 10,
   "metadata": {},
   "outputs": [],
   "source": [
    "from matplotlib import pyplot as plt"
   ]
  },
  {
   "cell_type": "code",
   "execution_count": 13,
   "metadata": {},
   "outputs": [
    {
     "data": {
      "text/plain": [
       "100"
      ]
     },
     "execution_count": 13,
     "metadata": {},
     "output_type": "execute_result"
    }
   ],
   "source": [
    "len([139, 59, 261, 33, 9, 257, 21, 5, 212, 64, 47, 3, 596, 93, 39, 9, 24, 11, 28, 3, 51, 797, 250, 40, 50, 11, 32, 29, 81, 6, 220, 201, 30, 58, 22, 42, 278, 6, 41, 3, 10, 32, 15, 11, 143, 77, 46, 46, 9, 14, 406, 19, 26, 15, 128, 47, 124, 148, 6, 9, 117, 55, 9, 88, 30, 9, 40, 22, 50, 82, 22, 199, 21, 11, 123, 21, 51, 12, 39, 115, 11, 3, 25, 3, 41, 18, 3, 3, 37, 3, 42, 3, 22, 30, 14, 489, 5, 77, 188, 6])"
   ]
  },
  {
   "cell_type": "code",
   "execution_count": 7,
   "metadata": {},
   "outputs": [
    {
     "data": {
      "text/plain": [
       "[0.0, 0.0, 0.0, 0.0, 0.0, 1.0, 1.0, 1.0, 1.0, 1.0]"
      ]
     },
     "execution_count": 7,
     "metadata": {},
     "output_type": "execute_result"
    }
   ],
   "source": []
  },
  {
   "cell_type": "code",
   "execution_count": null,
   "metadata": {},
   "outputs": [],
   "source": [
    "new_entry = \"foobar\"\n",
    "with open(\"/somepath/somefile.txt\", \"a\") as g:\n",
    "    fcntl.flock(g, fcntl.LOCK_EX)\n",
    "    g.write(new_entry)\n",
    "    fcntl.flock(g, fcntl.LOCK_UN)"
   ]
  },
  {
   "cell_type": "code",
   "execution_count": 16,
   "metadata": {},
   "outputs": [],
   "source": [
    "with open('test.json', 'a') as file:\n",
    "    for i in range(100):\n",
    "#         current_list=json.load(file)\n",
    "        time.sleep(0.1)\n",
    "        json.dump(f'{i}, ',file)"
   ]
  },
  {
   "cell_type": "code",
   "execution_count": 17,
   "metadata": {},
   "outputs": [],
   "source": [
    "import time\n",
    "import json\n",
    "\n",
    "import fcntl\n"
   ]
  },
  {
   "cell_type": "code",
   "execution_count": null,
   "metadata": {},
   "outputs": [],
   "source": []
  }
 ],
 "metadata": {
  "kernelspec": {
   "display_name": "Python 3",
   "language": "python",
   "name": "python3"
  },
  "language_info": {
   "codemirror_mode": {
    "name": "ipython",
    "version": 3
   },
   "file_extension": ".py",
   "mimetype": "text/x-python",
   "name": "python",
   "nbconvert_exporter": "python",
   "pygments_lexer": "ipython3",
   "version": "3.7.3"
  },
  "toc": {
   "base_numbering": 1,
   "nav_menu": {},
   "number_sections": true,
   "sideBar": true,
   "skip_h1_title": false,
   "title_cell": "Table of Contents",
   "title_sidebar": "Contents",
   "toc_cell": false,
   "toc_position": {},
   "toc_section_display": true,
   "toc_window_display": false
  }
 },
 "nbformat": 4,
 "nbformat_minor": 2
}
